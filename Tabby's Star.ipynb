{
 "cells": [
  {
   "cell_type": "code",
   "execution_count": 9,
   "metadata": {},
   "outputs": [
    {
     "data": {
      "text/html": [
       "<div>\n",
       "<style scoped>\n",
       "    .dataframe tbody tr th:only-of-type {\n",
       "        vertical-align: middle;\n",
       "    }\n",
       "\n",
       "    .dataframe tbody tr th {\n",
       "        vertical-align: top;\n",
       "    }\n",
       "\n",
       "    .dataframe thead th {\n",
       "        text-align: right;\n",
       "    }\n",
       "</style>\n",
       "<table border=\"1\" class=\"dataframe\">\n",
       "  <thead>\n",
       "    <tr style=\"text-align: right;\">\n",
       "      <th></th>\n",
       "      <th>time_bjd_2454833</th>\n",
       "      <th>flux</th>\n",
       "      <th>uncertainty_1_std_dev</th>\n",
       "      <th>orientation</th>\n",
       "    </tr>\n",
       "  </thead>\n",
       "  <tbody>\n",
       "    <tr>\n",
       "      <th>count</th>\n",
       "      <td>52.000000</td>\n",
       "      <td>52.000000</td>\n",
       "      <td>52.000000</td>\n",
       "      <td>52.000000</td>\n",
       "    </tr>\n",
       "    <tr>\n",
       "      <th>mean</th>\n",
       "      <td>763.455077</td>\n",
       "      <td>0.998446</td>\n",
       "      <td>0.002525</td>\n",
       "      <td>1.673077</td>\n",
       "    </tr>\n",
       "    <tr>\n",
       "      <th>std</th>\n",
       "      <td>464.959599</td>\n",
       "      <td>0.011660</td>\n",
       "      <td>0.001299</td>\n",
       "      <td>1.149956</td>\n",
       "    </tr>\n",
       "    <tr>\n",
       "      <th>min</th>\n",
       "      <td>112.742000</td>\n",
       "      <td>0.974110</td>\n",
       "      <td>0.001500</td>\n",
       "      <td>0.000000</td>\n",
       "    </tr>\n",
       "    <tr>\n",
       "      <th>25%</th>\n",
       "      <td>374.475500</td>\n",
       "      <td>0.992167</td>\n",
       "      <td>0.001580</td>\n",
       "      <td>1.000000</td>\n",
       "    </tr>\n",
       "    <tr>\n",
       "      <th>50%</th>\n",
       "      <td>735.830000</td>\n",
       "      <td>1.002245</td>\n",
       "      <td>0.001670</td>\n",
       "      <td>2.000000</td>\n",
       "    </tr>\n",
       "    <tr>\n",
       "      <th>75%</th>\n",
       "      <td>1160.531750</td>\n",
       "      <td>1.008625</td>\n",
       "      <td>0.002663</td>\n",
       "      <td>3.000000</td>\n",
       "    </tr>\n",
       "    <tr>\n",
       "      <th>max</th>\n",
       "      <td>1557.495000</td>\n",
       "      <td>1.010670</td>\n",
       "      <td>0.005050</td>\n",
       "      <td>3.000000</td>\n",
       "    </tr>\n",
       "  </tbody>\n",
       "</table>\n",
       "</div>"
      ],
      "text/plain": [
       "       time_bjd_2454833       flux  uncertainty_1_std_dev  orientation\n",
       "count         52.000000  52.000000              52.000000    52.000000\n",
       "mean         763.455077   0.998446               0.002525     1.673077\n",
       "std          464.959599   0.011660               0.001299     1.149956\n",
       "min          112.742000   0.974110               0.001500     0.000000\n",
       "25%          374.475500   0.992167               0.001580     1.000000\n",
       "50%          735.830000   1.002245               0.001670     2.000000\n",
       "75%         1160.531750   1.008625               0.002663     3.000000\n",
       "max         1557.495000   1.010670               0.005050     3.000000"
      ]
     },
     "execution_count": 9,
     "metadata": {},
     "output_type": "execute_result"
    }
   ],
   "source": [
    "import pandas\n",
    "import matplotlib.pyplot as plt\n",
    "from sklearn import preprocessing\n",
    "\n",
    "data = pandas.read_csv(\"C:/Users/Toxicr0ak/Documents/tabby_star.csv\")\n",
    "data.describe()"
   ]
  },
  {
   "cell_type": "code",
   "execution_count": 10,
   "metadata": {},
   "outputs": [],
   "source": [
    "clean = data.drop([\"uncertainty_1_std_dev\",\"orientation\"],axis = 1)\n",
    "minmax_scaler = preprocessing.MinMaxScaler()\n",
    "minmax_clean = minmax_scaler.fit_transform(clean)\n",
    "minmax_clean = pandas.DataFrame(minmax_clean, columns=[\"Time\",\"Flux\"])\n",
    "time_data = minmax_clean.drop(\"Flux\",axis=1)\n",
    "flux_data = minmax_clean.drop(\"Time\",axis=1)"
   ]
  },
  {
   "cell_type": "code",
   "execution_count": 11,
   "metadata": {
    "scrolled": true
   },
   "outputs": [
    {
     "data": {
      "text/plain": [
       "[<matplotlib.lines.Line2D at 0x1f5e3b83208>]"
      ]
     },
     "execution_count": 11,
     "metadata": {},
     "output_type": "execute_result"
    },
    {
     "data": {
      "image/png": "[encoded data removed]",
      "text/plain": [
       "<Figure size 432x288 with 1 Axes>"
      ]
     },
     "metadata": {
      "needs_background": "light"
     },
     "output_type": "display_data"
    }
   ],
   "source": [
    "plt.plot(time_data, flux_data)"
   ]
  },
  {
   "cell_type": "code",
   "execution_count": 12,
   "metadata": {
    "scrolled": true
   },
   "outputs": [
    {
     "data": {
      "text/html": [
       "<div>\n",
       "<style scoped>\n",
       "    .dataframe tbody tr th:only-of-type {\n",
       "        vertical-align: middle;\n",
       "    }\n",
       "\n",
       "    .dataframe tbody tr th {\n",
       "        vertical-align: top;\n",
       "    }\n",
       "\n",
       "    .dataframe thead th {\n",
       "        text-align: right;\n",
       "    }\n",
       "</style>\n",
       "<table border=\"1\" class=\"dataframe\">\n",
       "  <thead>\n",
       "    <tr style=\"text-align: right;\">\n",
       "      <th></th>\n",
       "      <th>Time</th>\n",
       "      <th>Flux</th>\n",
       "    </tr>\n",
       "  </thead>\n",
       "  <tbody>\n",
       "    <tr>\n",
       "      <th>0</th>\n",
       "      <td>0.000000</td>\n",
       "      <td>0.953228</td>\n",
       "    </tr>\n",
       "    <tr>\n",
       "      <th>1</th>\n",
       "      <td>0.000087</td>\n",
       "      <td>0.950492</td>\n",
       "    </tr>\n",
       "    <tr>\n",
       "      <th>2</th>\n",
       "      <td>0.000191</td>\n",
       "      <td>0.951586</td>\n",
       "    </tr>\n",
       "    <tr>\n",
       "      <th>3</th>\n",
       "      <td>0.000341</td>\n",
       "      <td>0.945295</td>\n",
       "    </tr>\n",
       "    <tr>\n",
       "      <th>4</th>\n",
       "      <td>0.000413</td>\n",
       "      <td>0.953775</td>\n",
       "    </tr>\n",
       "    <tr>\n",
       "      <th>5</th>\n",
       "      <td>0.000559</td>\n",
       "      <td>0.951039</td>\n",
       "    </tr>\n",
       "    <tr>\n",
       "      <th>6</th>\n",
       "      <td>0.000686</td>\n",
       "      <td>0.952954</td>\n",
       "    </tr>\n",
       "    <tr>\n",
       "      <th>7</th>\n",
       "      <td>0.000986</td>\n",
       "      <td>0.946937</td>\n",
       "    </tr>\n",
       "    <tr>\n",
       "      <th>8</th>\n",
       "      <td>0.081040</td>\n",
       "      <td>1.000000</td>\n",
       "    </tr>\n",
       "    <tr>\n",
       "      <th>9</th>\n",
       "      <td>0.100546</td>\n",
       "      <td>0.985503</td>\n",
       "    </tr>\n",
       "    <tr>\n",
       "      <th>10</th>\n",
       "      <td>0.122750</td>\n",
       "      <td>0.865153</td>\n",
       "    </tr>\n",
       "    <tr>\n",
       "      <th>11</th>\n",
       "      <td>0.144134</td>\n",
       "      <td>0.943654</td>\n",
       "    </tr>\n",
       "    <tr>\n",
       "      <th>12</th>\n",
       "      <td>0.163554</td>\n",
       "      <td>0.950766</td>\n",
       "    </tr>\n",
       "    <tr>\n",
       "      <th>13</th>\n",
       "      <td>0.187031</td>\n",
       "      <td>0.956510</td>\n",
       "    </tr>\n",
       "    <tr>\n",
       "      <th>14</th>\n",
       "      <td>0.187086</td>\n",
       "      <td>0.956783</td>\n",
       "    </tr>\n",
       "    <tr>\n",
       "      <th>15</th>\n",
       "      <td>0.207665</td>\n",
       "      <td>0.882112</td>\n",
       "    </tr>\n",
       "    <tr>\n",
       "      <th>16</th>\n",
       "      <td>0.227719</td>\n",
       "      <td>0.720186</td>\n",
       "    </tr>\n",
       "    <tr>\n",
       "      <th>17</th>\n",
       "      <td>0.250419</td>\n",
       "      <td>0.856127</td>\n",
       "    </tr>\n",
       "    <tr>\n",
       "      <th>18</th>\n",
       "      <td>0.270417</td>\n",
       "      <td>0.824945</td>\n",
       "    </tr>\n",
       "    <tr>\n",
       "      <th>19</th>\n",
       "      <td>0.294135</td>\n",
       "      <td>0.872265</td>\n",
       "    </tr>\n",
       "    <tr>\n",
       "      <th>20</th>\n",
       "      <td>0.313766</td>\n",
       "      <td>0.735503</td>\n",
       "    </tr>\n",
       "    <tr>\n",
       "      <th>21</th>\n",
       "      <td>0.335745</td>\n",
       "      <td>0.850383</td>\n",
       "    </tr>\n",
       "    <tr>\n",
       "      <th>22</th>\n",
       "      <td>0.357215</td>\n",
       "      <td>0.840810</td>\n",
       "    </tr>\n",
       "    <tr>\n",
       "      <th>23</th>\n",
       "      <td>0.378656</td>\n",
       "      <td>0.773249</td>\n",
       "    </tr>\n",
       "    <tr>\n",
       "      <th>24</th>\n",
       "      <td>0.399390</td>\n",
       "      <td>0.827681</td>\n",
       "    </tr>\n",
       "    <tr>\n",
       "      <th>25</th>\n",
       "      <td>0.419686</td>\n",
       "      <td>0.777899</td>\n",
       "    </tr>\n",
       "    <tr>\n",
       "      <th>26</th>\n",
       "      <td>0.442867</td>\n",
       "      <td>0.833425</td>\n",
       "    </tr>\n",
       "    <tr>\n",
       "      <th>27</th>\n",
       "      <td>0.463053</td>\n",
       "      <td>0.696116</td>\n",
       "    </tr>\n",
       "    <tr>\n",
       "      <th>28</th>\n",
       "      <td>0.506455</td>\n",
       "      <td>0.758206</td>\n",
       "    </tr>\n",
       "    <tr>\n",
       "      <th>29</th>\n",
       "      <td>0.526666</td>\n",
       "      <td>0.765864</td>\n",
       "    </tr>\n",
       "    <tr>\n",
       "      <th>30</th>\n",
       "      <td>0.548687</td>\n",
       "      <td>0.759026</td>\n",
       "    </tr>\n",
       "    <tr>\n",
       "      <th>31</th>\n",
       "      <td>0.570156</td>\n",
       "      <td>0.536105</td>\n",
       "    </tr>\n",
       "    <tr>\n",
       "      <th>32</th>\n",
       "      <td>0.592503</td>\n",
       "      <td>0.676696</td>\n",
       "    </tr>\n",
       "    <tr>\n",
       "      <th>33</th>\n",
       "      <td>0.613987</td>\n",
       "      <td>0.812090</td>\n",
       "    </tr>\n",
       "    <tr>\n",
       "      <th>34</th>\n",
       "      <td>0.636135</td>\n",
       "      <td>0.694748</td>\n",
       "    </tr>\n",
       "    <tr>\n",
       "      <th>35</th>\n",
       "      <td>0.657562</td>\n",
       "      <td>0.744256</td>\n",
       "    </tr>\n",
       "    <tr>\n",
       "      <th>36</th>\n",
       "      <td>0.681860</td>\n",
       "      <td>0.752462</td>\n",
       "    </tr>\n",
       "    <tr>\n",
       "      <th>37</th>\n",
       "      <td>0.700940</td>\n",
       "      <td>0.749179</td>\n",
       "    </tr>\n",
       "    <tr>\n",
       "      <th>38</th>\n",
       "      <td>0.720387</td>\n",
       "      <td>0.606400</td>\n",
       "    </tr>\n",
       "    <tr>\n",
       "      <th>39</th>\n",
       "      <td>0.739792</td>\n",
       "      <td>0.367341</td>\n",
       "    </tr>\n",
       "    <tr>\n",
       "      <th>40</th>\n",
       "      <td>0.762604</td>\n",
       "      <td>0.365700</td>\n",
       "    </tr>\n",
       "    <tr>\n",
       "      <th>41</th>\n",
       "      <td>0.783325</td>\n",
       "      <td>0.187363</td>\n",
       "    </tr>\n",
       "    <tr>\n",
       "      <th>42</th>\n",
       "      <td>0.802800</td>\n",
       "      <td>0.253282</td>\n",
       "    </tr>\n",
       "    <tr>\n",
       "      <th>43</th>\n",
       "      <td>0.824906</td>\n",
       "      <td>0.072757</td>\n",
       "    </tr>\n",
       "    <tr>\n",
       "      <th>44</th>\n",
       "      <td>0.846574</td>\n",
       "      <td>0.157276</td>\n",
       "    </tr>\n",
       "    <tr>\n",
       "      <th>45</th>\n",
       "      <td>0.870815</td>\n",
       "      <td>0.107221</td>\n",
       "    </tr>\n",
       "    <tr>\n",
       "      <th>46</th>\n",
       "      <td>0.893643</td>\n",
       "      <td>0.015317</td>\n",
       "    </tr>\n",
       "    <tr>\n",
       "      <th>47</th>\n",
       "      <td>0.915154</td>\n",
       "      <td>0.113239</td>\n",
       "    </tr>\n",
       "    <tr>\n",
       "      <th>48</th>\n",
       "      <td>0.939905</td>\n",
       "      <td>0.099562</td>\n",
       "    </tr>\n",
       "    <tr>\n",
       "      <th>49</th>\n",
       "      <td>0.958518</td>\n",
       "      <td>0.163840</td>\n",
       "    </tr>\n",
       "    <tr>\n",
       "      <th>50</th>\n",
       "      <td>0.977159</td>\n",
       "      <td>0.000000</td>\n",
       "    </tr>\n",
       "    <tr>\n",
       "      <th>51</th>\n",
       "      <td>1.000000</td>\n",
       "      <td>0.100930</td>\n",
       "    </tr>\n",
       "  </tbody>\n",
       "</table>\n",
       "</div>"
      ],
      "text/plain": [
       "        Time      Flux\n",
       "0   0.000000  0.953228\n",
       "1   0.000087  0.950492\n",
       "2   0.000191  0.951586\n",
       "3   0.000341  0.945295\n",
       "4   0.000413  0.953775\n",
       "5   0.000559  0.951039\n",
       "6   0.000686  0.952954\n",
       "7   0.000986  0.946937\n",
       "8   0.081040  1.000000\n",
       "9   0.100546  0.985503\n",
       "10  0.122750  0.865153\n",
       "11  0.144134  0.943654\n",
       "12  0.163554  0.950766\n",
       "13  0.187031  0.956510\n",
       "14  0.187086  0.956783\n",
       "15  0.207665  0.882112\n",
       "16  0.227719  0.720186\n",
       "17  0.250419  0.856127\n",
       "18  0.270417  0.824945\n",
       "19  0.294135  0.872265\n",
       "20  0.313766  0.735503\n",
       "21  0.335745  0.850383\n",
       "22  0.357215  0.840810\n",
       "23  0.378656  0.773249\n",
       "24  0.399390  0.827681\n",
       "25  0.419686  0.777899\n",
       "26  0.442867  0.833425\n",
       "27  0.463053  0.696116\n",
       "28  0.506455  0.758206\n",
       "29  0.526666  0.765864\n",
       "30  0.548687  0.759026\n",
       "31  0.570156  0.536105\n",
       "32  0.592503  0.676696\n",
       "33  0.613987  0.812090\n",
       "34  0.636135  0.694748\n",
       "35  0.657562  0.744256\n",
       "36  0.681860  0.752462\n",
       "37  0.700940  0.749179\n",
       "38  0.720387  0.606400\n",
       "39  0.739792  0.367341\n",
       "40  0.762604  0.365700\n",
       "41  0.783325  0.187363\n",
       "42  0.802800  0.253282\n",
       "43  0.824906  0.072757\n",
       "44  0.846574  0.157276\n",
       "45  0.870815  0.107221\n",
       "46  0.893643  0.015317\n",
       "47  0.915154  0.113239\n",
       "48  0.939905  0.099562\n",
       "49  0.958518  0.163840\n",
       "50  0.977159  0.000000\n",
       "51  1.000000  0.100930"
      ]
     },
     "execution_count": 12,
     "metadata": {},
     "output_type": "execute_result"
    },
    {
     "data": {
      "image/png": "[encoded data removed]",
      "text/plain": [
       "<Figure size 432x288 with 1 Axes>"
      ]
     },
     "metadata": {
      "needs_background": "light"
     },
     "output_type": "display_data"
    }
   ],
   "source": [
    "minmax_clean.plot()\n",
    "minmax_clean"
   ]
  },
  {
   "cell_type": "code",
   "execution_count": 13,
   "metadata": {},
   "outputs": [],
   "source": [
    "from sklearn.model_selection import train_test_split\n",
    "\n",
    "time_train, time_test = train_test_split(time_data, test_size=0.2, random_state=69)\n",
    "flux_train, flux_test = train_test_split(flux_data, test_size=0.2, random_state=69)"
   ]
  },
  {
   "cell_type": "code",
   "execution_count": 14,
   "metadata": {},
   "outputs": [
    {
     "data": {
      "text/plain": [
       "array([[1.07030574],\n",
       "       [1.0698033 ],\n",
       "       [0.60894479],\n",
       "       [0.3284847 ],\n",
       "       [0.99962031],\n",
       "       [1.07059154],\n",
       "       [0.36686055],\n",
       "       [0.30723241],\n",
       "       [0.51297422],\n",
       "       [0.62666363],\n",
       "       [0.26836079]])"
      ]
     },
     "execution_count": 14,
     "metadata": {},
     "output_type": "execute_result"
    }
   ],
   "source": [
    "from sklearn.linear_model import LinearRegression\n",
    "\n",
    "linreg = LinearRegression()\n",
    "linreg.fit(time_train, flux_train)\n",
    "linreg.predict(time_test)"
   ]
  },
  {
   "cell_type": "code",
   "execution_count": 15,
   "metadata": {},
   "outputs": [
    {
     "name": "stdout",
     "output_type": "stream",
     "text": [
      "0.14188648775999096\n"
     ]
    }
   ],
   "source": [
    "from sklearn.metrics import mean_squared_error\n",
    "import numpy as np\n",
    "\n",
    "flux_predictions = linreg.predict(time_data)\n",
    "prediction_rmse = np.sqrt(mean_squared_error(flux_data, flux_predictions))\n",
    "print(prediction_rmse)"
   ]
  },
  {
   "cell_type": "code",
   "execution_count": 16,
   "metadata": {
    "scrolled": true
   },
   "outputs": [
    {
     "data": {
      "text/plain": [
       "[<matplotlib.lines.Line2D at 0x1f5e3f244a8>]"
      ]
     },
     "execution_count": 16,
     "metadata": {},
     "output_type": "execute_result"
    },
    {
     "data": {
      "image/png": "[encoded data removed]",
      "text/plain": [
       "<Figure size 432x288 with 1 Axes>"
      ]
     },
     "metadata": {
      "needs_background": "light"
     },
     "output_type": "display_data"
    }
   ],
   "source": [
    "import matplotlib.pyplot as plt\n",
    "plt.plot(time_data, flux_predictions)"
   ]
  },
  {
   "cell_type": "code",
   "execution_count": 17,
   "metadata": {},
   "outputs": [],
   "source": [
    "deviant_behaviour = minmax_clean.loc[minmax_clean[\"Flux\"]<0.4]\n",
    "normal_behaviour = minmax_clean.loc[minmax_clean[\"Flux\"]>0.4]\n",
    "deviant_flux = deviant_behaviour.drop(\"Time\",axis=1)\n",
    "deviant_time = deviant_behaviour.drop(\"Flux\",axis=1)\n",
    "normal_flux = normal_behaviour.drop(\"Time\",axis=1)\n",
    "normal_time = normal_behaviour.drop(\"Flux\",axis=1)"
   ]
  },
  {
   "cell_type": "code",
   "execution_count": 18,
   "metadata": {},
   "outputs": [],
   "source": [
    "normal_flux_train, normal_flux_test = train_test_split(normal_flux,test_size=0.2,random_state=19)\n",
    "normal_time_train, normal_time_test = train_test_split(normal_time,test_size=0.2,random_state=19)\n",
    "deviant_flux_train, deviant_flux_test = train_test_split(deviant_flux,test_size=0.2,random_state=29)\n",
    "deviant_time_train, deviant_time_test = train_test_split(deviant_time,test_size=0.2,random_state=29)"
   ]
  },
  {
   "cell_type": "code",
   "execution_count": 19,
   "metadata": {},
   "outputs": [
    {
     "name": "stdout",
     "output_type": "stream",
     "text": [
      "0.059812236928187074\n"
     ]
    }
   ],
   "source": [
    "norm_linreg = LinearRegression()\n",
    "norm_linreg.fit(normal_time_train, normal_flux_train)\n",
    "norm_flux_predictions = norm_linreg.predict(normal_time)\n",
    "norm_rmse = np.sqrt(mean_squared_error(normal_flux, norm_flux_predictions))\n",
    "print(norm_rmse)"
   ]
  },
  {
   "cell_type": "code",
   "execution_count": 20,
   "metadata": {},
   "outputs": [
    {
     "name": "stdout",
     "output_type": "stream",
     "text": [
      "0.4654480360879747\n"
     ]
    }
   ],
   "source": [
    "deviant_flux_predictions_by_normfit = norm_linreg.predict(deviant_time)\n",
    "deviant_flux_normfit_rmse = np.sqrt(mean_squared_error(deviant_flux, deviant_flux_predictions_by_normfit))\n",
    "print(deviant_flux_normfit_rmse)"
   ]
  },
  {
   "cell_type": "code",
   "execution_count": 21,
   "metadata": {},
   "outputs": [
    {
     "data": {
      "text/plain": [
       "array([[ 0.20789579],\n",
       "       [-0.04767586],\n",
       "       [ 0.01287197]])"
      ]
     },
     "execution_count": 21,
     "metadata": {},
     "output_type": "execute_result"
    }
   ],
   "source": [
    "deviant_linreg = LinearRegression()\n",
    "deviant_linreg.fit(deviant_time_train, deviant_flux_train)\n",
    "deviant_linreg.predict(deviant_time_test)"
   ]
  },
  {
   "cell_type": "code",
   "execution_count": 22,
   "metadata": {},
   "outputs": [
    {
     "name": "stdout",
     "output_type": "stream",
     "text": [
      "0.083548651493467\n"
     ]
    }
   ],
   "source": [
    "deviant_flux_predictions = deviant_linreg.predict(deviant_time)\n",
    "deviant_rmse = np.sqrt(mean_squared_error(deviant_flux, deviant_flux_predictions))\n",
    "print(deviant_rmse)"
   ]
  },
  {
   "cell_type": "code",
   "execution_count": null,
   "metadata": {},
   "outputs": [],
   "source": []
  }
 ],
 "metadata": {
  "kernelspec": {
   "display_name": "Python 3",
   "language": "python",
   "name": "python3"
  },
  "language_info": {
   "codemirror_mode": {
    "name": "ipython",
    "version": 3
   },
   "file_extension": ".py",
   "mimetype": "text/x-python",
   "name": "python",
   "nbconvert_exporter": "python",
   "pygments_lexer": "ipython3",
   "version": "3.7.3"
  }
 },
 "nbformat": 4,
 "nbformat_minor": 2
}
